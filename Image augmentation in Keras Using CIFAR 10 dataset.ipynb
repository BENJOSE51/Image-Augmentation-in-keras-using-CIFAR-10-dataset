{
 "cells": [
  {
   "cell_type": "markdown",
   "metadata": {},
   "source": [
    "**Importing necessary packages**"
   ]
  },
  {
   "cell_type": "code",
   "execution_count": 1,
   "metadata": {},
   "outputs": [],
   "source": [
    "import numpy as np\n",
    "import pandas as pd\n",
    "import matplotlib.pyplot as plt\n",
    "import tensorflow as tf\n",
    "from tensorflow.keras import layers\n",
    "from tensorflow.keras import models\n",
    "from tensorflow.keras import regularizers\n",
    "from tensorflow.keras.layers import BatchNormalization"
   ]
  },
  {
   "cell_type": "markdown",
   "metadata": {},
   "source": [
    "**Preparing the CIFAR10 dataset**"
   ]
  },
  {
   "cell_type": "code",
   "execution_count": 2,
   "metadata": {},
   "outputs": [],
   "source": [
    "from tensorflow.keras import datasets\n",
    "(train_images, train_labels), (test_images,test_labels)=datasets.cifar10.load_data()"
   ]
  },
  {
   "cell_type": "markdown",
   "metadata": {},
   "source": [
    "**Splitting the dataset into training, validaiton and testing set**\n",
    "**(Training set of 40000 images,validation set of 10000 images, and the test set consisting of the remaining 10000 images.)**"
   ]
  },
  {
   "cell_type": "code",
   "execution_count": 3,
   "metadata": {},
   "outputs": [],
   "source": [
    "val_images = train_images[:10000]\n",
    "val_labels = train_labels[:10000]\n",
    "partial_train_images = train_images[10000:]\n",
    "partial_train_labels = train_labels[10000:]"
   ]
  },
  {
   "cell_type": "markdown",
   "metadata": {},
   "source": [
    "**Scaling the pixel values so they lie in the range of 0-1**"
   ]
  },
  {
   "cell_type": "code",
   "execution_count": 4,
   "metadata": {},
   "outputs": [],
   "source": [
    "partial_train_images = partial_train_images / 255.\n",
    "val_images = val_images / 255.\n",
    "test_images = test_images /255"
   ]
  },
  {
   "cell_type": "markdown",
   "metadata": {},
   "source": [
    "**Printing the shape of training,validation and test set**"
   ]
  },
  {
   "cell_type": "code",
   "execution_count": 5,
   "metadata": {},
   "outputs": [
    {
     "data": {
      "text/plain": [
       "(40000, 32, 32, 3)"
      ]
     },
     "execution_count": 5,
     "metadata": {},
     "output_type": "execute_result"
    }
   ],
   "source": [
    "partial_train_images.shape"
   ]
  },
  {
   "cell_type": "code",
   "execution_count": 6,
   "metadata": {},
   "outputs": [
    {
     "data": {
      "text/plain": [
       "(10000, 32, 32, 3)"
      ]
     },
     "execution_count": 6,
     "metadata": {},
     "output_type": "execute_result"
    }
   ],
   "source": [
    "val_images.shape"
   ]
  },
  {
   "cell_type": "code",
   "execution_count": 7,
   "metadata": {},
   "outputs": [
    {
     "data": {
      "text/plain": [
       "(10000, 32, 32, 3)"
      ]
     },
     "execution_count": 7,
     "metadata": {},
     "output_type": "execute_result"
    }
   ],
   "source": [
    "test_images.shape"
   ]
  },
  {
   "cell_type": "markdown",
   "metadata": {},
   "source": [
    "# Model "
   ]
  },
  {
   "cell_type": "code",
   "execution_count": 8,
   "metadata": {},
   "outputs": [],
   "source": [
    "model = models.Sequential()\n",
    "model.add(layers.Conv2D(filters=32,kernel_size= (3, 3), activation='relu', input_shape=(32, 32, 3)))\n",
    "model.add(layers.MaxPooling2D((2, 2)))\n",
    "model.add(layers.Conv2D(filters=64, kernel_size=(3, 3), activation='relu'))\n",
    "model.add(layers.MaxPooling2D((2, 2)))\n",
    "model.add(layers.Conv2D(filters=64,kernel_size= (3, 3), activation='relu'))\n",
    "model.add(layers.Flatten())\n",
    "model.add(layers.Dense(64, activation='relu'))\n",
    "model.add(layers.Dense(10))"
   ]
  },
  {
   "cell_type": "code",
   "execution_count": 9,
   "metadata": {},
   "outputs": [
    {
     "name": "stdout",
     "output_type": "stream",
     "text": [
      "Epoch 1/20\n",
      "1250/1250 [==============================] - 29s 23ms/step - loss: 1.5864 - accuracy: 0.4211 - val_loss: 1.3766 - val_accuracy: 0.5045\n",
      "Epoch 2/20\n",
      "1250/1250 [==============================] - 28s 23ms/step - loss: 1.2435 - accuracy: 0.5575 - val_loss: 1.1572 - val_accuracy: 0.5831\n",
      "Epoch 3/20\n",
      "1250/1250 [==============================] - 28s 23ms/step - loss: 1.0991 - accuracy: 0.6134 - val_loss: 1.0381 - val_accuracy: 0.6288\n",
      "Epoch 4/20\n",
      "1250/1250 [==============================] - 28s 23ms/step - loss: 0.9998 - accuracy: 0.6475 - val_loss: 0.9842 - val_accuracy: 0.6568\n",
      "Epoch 5/20\n",
      "1250/1250 [==============================] - 28s 23ms/step - loss: 0.9253 - accuracy: 0.6775 - val_loss: 0.9306 - val_accuracy: 0.6763\n",
      "Epoch 6/20\n",
      "1250/1250 [==============================] - 29s 23ms/step - loss: 0.8562 - accuracy: 0.6996 - val_loss: 0.9356 - val_accuracy: 0.6807\n",
      "Epoch 7/20\n",
      "1250/1250 [==============================] - 28s 23ms/step - loss: 0.8055 - accuracy: 0.7192 - val_loss: 0.9187 - val_accuracy: 0.6835\n",
      "Epoch 8/20\n",
      "1250/1250 [==============================] - 29s 23ms/step - loss: 0.7645 - accuracy: 0.7311 - val_loss: 0.9069 - val_accuracy: 0.6838\n",
      "Epoch 9/20\n",
      "1250/1250 [==============================] - 29s 23ms/step - loss: 0.7296 - accuracy: 0.7424 - val_loss: 0.8776 - val_accuracy: 0.6983\n",
      "Epoch 10/20\n",
      "1250/1250 [==============================] - 28s 23ms/step - loss: 0.6929 - accuracy: 0.7563 - val_loss: 0.8997 - val_accuracy: 0.6975\n",
      "Epoch 11/20\n",
      "1250/1250 [==============================] - 26s 20ms/step - loss: 0.6594 - accuracy: 0.7676 - val_loss: 0.8742 - val_accuracy: 0.7043\n",
      "Epoch 12/20\n",
      "1250/1250 [==============================] - 26s 21ms/step - loss: 0.6260 - accuracy: 0.7791 - val_loss: 0.9034 - val_accuracy: 0.6955\n",
      "Epoch 13/20\n",
      "1250/1250 [==============================] - 29s 23ms/step - loss: 0.5944 - accuracy: 0.7912 - val_loss: 0.9533 - val_accuracy: 0.6839\n",
      "Epoch 14/20\n",
      "1250/1250 [==============================] - 29s 23ms/step - loss: 0.5605 - accuracy: 0.8006 - val_loss: 0.9293 - val_accuracy: 0.6980\n",
      "Epoch 15/20\n",
      "1250/1250 [==============================] - 28s 23ms/step - loss: 0.5357 - accuracy: 0.8106 - val_loss: 0.9485 - val_accuracy: 0.6966\n",
      "Epoch 16/20\n",
      "1250/1250 [==============================] - 29s 23ms/step - loss: 0.4989 - accuracy: 0.8228 - val_loss: 1.0064 - val_accuracy: 0.6861\n",
      "Epoch 17/20\n",
      "1250/1250 [==============================] - 30s 24ms/step - loss: 0.4748 - accuracy: 0.8306 - val_loss: 1.0421 - val_accuracy: 0.6900\n",
      "Epoch 18/20\n",
      "1250/1250 [==============================] - 29s 23ms/step - loss: 0.4456 - accuracy: 0.8418 - val_loss: 1.0500 - val_accuracy: 0.6842\n",
      "Epoch 19/20\n",
      "1250/1250 [==============================] - 28s 23ms/step - loss: 0.4224 - accuracy: 0.8499 - val_loss: 1.0471 - val_accuracy: 0.6937\n",
      "Epoch 20/20\n",
      "1250/1250 [==============================] - 28s 23ms/step - loss: 0.4018 - accuracy: 0.8565 - val_loss: 1.0906 - val_accuracy: 0.6913\n"
     ]
    }
   ],
   "source": [
    "model.compile(optimizer='adam',\n",
    "              loss=tf.keras.losses.SparseCategoricalCrossentropy(from_logits=True),\n",
    "              metrics=['accuracy'])\n",
    "history = model.fit(partial_train_images, partial_train_labels, epochs=20,validation_data=(val_images, val_labels))"
   ]
  },
  {
   "cell_type": "markdown",
   "metadata": {},
   "source": [
    "**Adding Batch Normalization**"
   ]
  },
  {
   "cell_type": "code",
   "execution_count": 10,
   "metadata": {},
   "outputs": [],
   "source": [
    "model = models.Sequential()\n",
    "model.add(layers.Conv2D(filters=32,kernel_size= (3, 3), activation='relu', input_shape=(32, 32, 3)))\n",
    "model.add(BatchNormalization())\n",
    "model.add(layers.MaxPooling2D((2, 2)))\n",
    "model.add(layers.Conv2D(filters=64, kernel_size=(3, 3), activation='relu'))\n",
    "model.add(BatchNormalization())\n",
    "model.add(layers.MaxPooling2D((2, 2)))\n",
    "model.add(layers.Conv2D(filters=64,kernel_size= (3, 3), activation='relu'))\n",
    "model.add(layers.Flatten())\n",
    "model.add(layers.Dense(64, activation='relu'))\n",
    "model.add(layers.Dense(10))"
   ]
  },
  {
   "cell_type": "code",
   "execution_count": 11,
   "metadata": {},
   "outputs": [
    {
     "name": "stdout",
     "output_type": "stream",
     "text": [
      "Epoch 1/20\n",
      "1250/1250 [==============================] - 60s 48ms/step - loss: 1.3792 - accuracy: 0.5068 - val_loss: 1.3082 - val_accuracy: 0.5411\n",
      "Epoch 2/20\n",
      "1250/1250 [==============================] - 59s 47ms/step - loss: 1.0154 - accuracy: 0.6432 - val_loss: 1.1779 - val_accuracy: 0.5927\n",
      "Epoch 3/20\n",
      "1250/1250 [==============================] - 60s 48ms/step - loss: 0.8561 - accuracy: 0.6993 - val_loss: 1.0271 - val_accuracy: 0.6526\n",
      "Epoch 4/20\n",
      "1250/1250 [==============================] - 56s 45ms/step - loss: 0.7458 - accuracy: 0.7368 - val_loss: 1.3790 - val_accuracy: 0.5892\n",
      "Epoch 5/20\n",
      "1250/1250 [==============================] - 57s 45ms/step - loss: 0.6552 - accuracy: 0.7702 - val_loss: 1.0348 - val_accuracy: 0.6624\n",
      "Epoch 6/20\n",
      "1250/1250 [==============================] - 56s 45ms/step - loss: 0.5820 - accuracy: 0.7942 - val_loss: 1.2980 - val_accuracy: 0.6337\n",
      "Epoch 7/20\n",
      "1250/1250 [==============================] - 58s 46ms/step - loss: 0.5194 - accuracy: 0.8154 - val_loss: 1.0575 - val_accuracy: 0.6687\n",
      "Epoch 8/20\n",
      "1250/1250 [==============================] - 58s 46ms/step - loss: 0.4638 - accuracy: 0.8355 - val_loss: 1.1014 - val_accuracy: 0.6804\n",
      "Epoch 9/20\n",
      "1250/1250 [==============================] - 57s 46ms/step - loss: 0.4152 - accuracy: 0.8521 - val_loss: 1.0329 - val_accuracy: 0.6991\n",
      "Epoch 10/20\n",
      "1250/1250 [==============================] - 57s 46ms/step - loss: 0.3674 - accuracy: 0.8674 - val_loss: 1.2613 - val_accuracy: 0.6445\n",
      "Epoch 11/20\n",
      "1250/1250 [==============================] - 58s 46ms/step - loss: 0.3301 - accuracy: 0.8827 - val_loss: 1.2469 - val_accuracy: 0.6758\n",
      "Epoch 12/20\n",
      "1250/1250 [==============================] - 58s 47ms/step - loss: 0.2933 - accuracy: 0.8943 - val_loss: 1.3281 - val_accuracy: 0.6707\n",
      "Epoch 13/20\n",
      "1250/1250 [==============================] - 57s 46ms/step - loss: 0.2729 - accuracy: 0.9018 - val_loss: 1.4598 - val_accuracy: 0.6571\n",
      "Epoch 14/20\n",
      "1250/1250 [==============================] - 57s 46ms/step - loss: 0.2401 - accuracy: 0.9122 - val_loss: 1.3448 - val_accuracy: 0.7012\n",
      "Epoch 15/20\n",
      "1250/1250 [==============================] - 57s 45ms/step - loss: 0.2306 - accuracy: 0.9182 - val_loss: 1.3522 - val_accuracy: 0.6915\n",
      "Epoch 16/20\n",
      "1250/1250 [==============================] - 57s 45ms/step - loss: 0.2057 - accuracy: 0.9261 - val_loss: 1.4752 - val_accuracy: 0.6787\n",
      "Epoch 17/20\n",
      "1250/1250 [==============================] - 56s 45ms/step - loss: 0.1954 - accuracy: 0.9312 - val_loss: 1.5014 - val_accuracy: 0.6951\n",
      "Epoch 18/20\n",
      "1250/1250 [==============================] - 58s 46ms/step - loss: 0.1842 - accuracy: 0.9349 - val_loss: 1.6742 - val_accuracy: 0.6666\n",
      "Epoch 19/20\n",
      "1250/1250 [==============================] - 57s 46ms/step - loss: 0.1710 - accuracy: 0.9384 - val_loss: 1.6648 - val_accuracy: 0.6893\n",
      "Epoch 20/20\n",
      "1250/1250 [==============================] - 57s 46ms/step - loss: 0.1581 - accuracy: 0.9453 - val_loss: 1.8023 - val_accuracy: 0.6826\n"
     ]
    }
   ],
   "source": [
    "model.compile(optimizer='adam',\n",
    "              loss=tf.keras.losses.SparseCategoricalCrossentropy(from_logits=True),\n",
    "              metrics=['accuracy'])\n",
    "history = model.fit(partial_train_images, partial_train_labels, epochs=20,validation_data=(val_images, val_labels))"
   ]
  },
  {
   "cell_type": "markdown",
   "metadata": {},
   "source": [
    "**Adding Regularization**"
   ]
  },
  {
   "cell_type": "code",
   "execution_count": 12,
   "metadata": {},
   "outputs": [],
   "source": [
    "model = models.Sequential()\n",
    "model.add(layers.Conv2D(filters=30,kernel_size= (3, 3), activation='relu', input_shape=(32, 32, 3)))\n",
    "model.add(BatchNormalization())\n",
    "model.add(layers.MaxPooling2D((2, 2)))\n",
    "model.add(layers.Conv2D(filters=60, kernel_size=(3, 3), activation='relu'))\n",
    "model.add(BatchNormalization())\n",
    "model.add(layers.MaxPooling2D((2, 2)))\n",
    "model.add(layers.Conv2D(filters=120,kernel_size= (3, 3), activation='relu'))\n",
    "model.add(layers.Flatten())\n",
    "model.add(layers.Dense(64, activation='softmax',kernel_regularizer=tf.keras.regularizers.l1(0.01),activity_regularizer=tf.keras.regularizers.l2(0.01)))\n",
    "model.add(layers.Dense(10))"
   ]
  },
  {
   "cell_type": "code",
   "execution_count": 13,
   "metadata": {},
   "outputs": [
    {
     "name": "stdout",
     "output_type": "stream",
     "text": [
      "Epoch 1/20\n",
      "1250/1250 [==============================] - 62s 50ms/step - loss: 2.7658 - accuracy: 0.2302 - val_loss: 2.0879 - val_accuracy: 0.2439\n",
      "Epoch 2/20\n",
      "1250/1250 [==============================] - 61s 49ms/step - loss: 1.9843 - accuracy: 0.2694 - val_loss: 1.9074 - val_accuracy: 0.2801\n",
      "Epoch 3/20\n",
      "1250/1250 [==============================] - 60s 48ms/step - loss: 1.8872 - accuracy: 0.3011 - val_loss: 1.9802 - val_accuracy: 0.2681\n",
      "Epoch 4/20\n",
      "1250/1250 [==============================] - 59s 47ms/step - loss: 1.8267 - accuracy: 0.3252 - val_loss: 1.9010 - val_accuracy: 0.3003\n",
      "Epoch 5/20\n",
      "1250/1250 [==============================] - 58s 47ms/step - loss: 1.7720 - accuracy: 0.3440 - val_loss: 1.7576 - val_accuracy: 0.3471\n",
      "Epoch 6/20\n",
      "1250/1250 [==============================] - 66s 52ms/step - loss: 1.7305 - accuracy: 0.3581 - val_loss: 1.7494 - val_accuracy: 0.3522\n",
      "Epoch 7/20\n",
      "1250/1250 [==============================] - 65s 52ms/step - loss: 1.6969 - accuracy: 0.3821 - val_loss: 1.6785 - val_accuracy: 0.3953\n",
      "Epoch 8/20\n",
      "1250/1250 [==============================] - 65s 52ms/step - loss: 1.6664 - accuracy: 0.4051 - val_loss: 1.7779 - val_accuracy: 0.3691\n",
      "Epoch 9/20\n",
      "1250/1250 [==============================] - 65s 52ms/step - loss: 1.6304 - accuracy: 0.4246 - val_loss: 1.6699 - val_accuracy: 0.4196\n",
      "Epoch 10/20\n",
      "1250/1250 [==============================] - 72s 58ms/step - loss: 1.6052 - accuracy: 0.4420 - val_loss: 1.7173 - val_accuracy: 0.4275\n",
      "Epoch 11/20\n",
      "1250/1250 [==============================] - 84s 67ms/step - loss: 1.5781 - accuracy: 0.4596 - val_loss: 1.7326 - val_accuracy: 0.4011\n",
      "Epoch 12/20\n",
      "1250/1250 [==============================] - 72s 58ms/step - loss: 1.5490 - accuracy: 0.4706 - val_loss: 1.7124 - val_accuracy: 0.4094\n",
      "Epoch 13/20\n",
      "1250/1250 [==============================] - 65s 52ms/step - loss: 1.5211 - accuracy: 0.4880 - val_loss: 1.6116 - val_accuracy: 0.4566\n",
      "Epoch 14/20\n",
      "1250/1250 [==============================] - 65s 52ms/step - loss: 1.4931 - accuracy: 0.4944 - val_loss: 1.6340 - val_accuracy: 0.4431\n",
      "Epoch 15/20\n",
      "1250/1250 [==============================] - 67s 53ms/step - loss: 1.4733 - accuracy: 0.5058 - val_loss: 1.5484 - val_accuracy: 0.4722\n",
      "Epoch 16/20\n",
      "1250/1250 [==============================] - 65s 52ms/step - loss: 1.4462 - accuracy: 0.5129 - val_loss: 1.5373 - val_accuracy: 0.4856\n",
      "Epoch 17/20\n",
      "1250/1250 [==============================] - 65s 52ms/step - loss: 1.4337 - accuracy: 0.5221 - val_loss: 1.5848 - val_accuracy: 0.4686\n",
      "Epoch 18/20\n",
      "1250/1250 [==============================] - 65s 52ms/step - loss: 1.4132 - accuracy: 0.5354 - val_loss: 1.5217 - val_accuracy: 0.5060\n",
      "Epoch 19/20\n",
      "1250/1250 [==============================] - 67s 54ms/step - loss: 1.3952 - accuracy: 0.5481 - val_loss: 1.6206 - val_accuracy: 0.4870\n",
      "Epoch 20/20\n",
      "1250/1250 [==============================] - 66s 53ms/step - loss: 1.3813 - accuracy: 0.5589 - val_loss: 1.5262 - val_accuracy: 0.5134\n"
     ]
    }
   ],
   "source": [
    "model.compile(optimizer='adam',\n",
    "              loss=tf.keras.losses.SparseCategoricalCrossentropy(from_logits=True),\n",
    "              metrics=['accuracy'])\n",
    "history = model.fit(partial_train_images, partial_train_labels, epochs=20,validation_data=(val_images, val_labels))"
   ]
  },
  {
   "cell_type": "markdown",
   "metadata": {},
   "source": [
    "**Plot for training and validation loss per epoch**"
   ]
  },
  {
   "cell_type": "code",
   "execution_count": 14,
   "metadata": {},
   "outputs": [
    {
     "data": {
      "image/png": "[encoded data removed]",
      "text/plain": [
       "<Figure size 432x288 with 1 Axes>"
      ]
     },
     "metadata": {
      "needs_background": "light"
     },
     "output_type": "display_data"
    }
   ],
   "source": [
    "history.history.keys()\n",
    "history_dict = history.history \n",
    "loss_values = history_dict['loss']\n",
    "val_loss_values = history_dict['val_loss'] \n",
    "\n",
    "epochs = range(1, len(loss_values)+1)\n",
    "plt.plot(epochs, loss_values, 'b', label=\"Training Loss\")\n",
    "plt.plot(epochs, val_loss_values, 'r', label=\"Validation Loss\")\n",
    "plt.title(\"Training and Validation Loss\")\n",
    "plt.xlabel(\"Epochs\")\n",
    "plt.xticks(epochs)\n",
    "plt.ylabel(\"Loss\")\n",
    "plt.legend()\n",
    "plt.show()"
   ]
  },
  {
   "cell_type": "markdown",
   "metadata": {},
   "source": [
    "**Plot for training and validation accuracy per epoch.**"
   ]
  },
  {
   "cell_type": "code",
   "execution_count": 15,
   "metadata": {},
   "outputs": [
    {
     "data": {
      "image/png": "[encoded data removed]",
      "text/plain": [
       "<Figure size 432x288 with 1 Axes>"
      ]
     },
     "metadata": {
      "needs_background": "light"
     },
     "output_type": "display_data"
    }
   ],
   "source": [
    "acc_values = history_dict['accuracy']\n",
    "val_acc_values = history_dict['val_accuracy']\n",
    "plt.plot(epochs, acc_values, 'b', label=\"Training Accuracy\")\n",
    "plt.plot(epochs, val_acc_values, 'r', label=\"Validation Accuracy\")\n",
    "plt.title(\"Training and Validation Accuracy\")\n",
    "plt.xlabel(\"Epochs\")\n",
    "plt.xticks(epochs)\n",
    "plt.ylabel(\"Accuracy\")\n",
    "plt.legend()\n",
    "plt.show()"
   ]
  }
 ],
 "metadata": {
  "kernelspec": {
   "display_name": "Python 3",
   "language": "python",
   "name": "python3"
  },
  "language_info": {
   "codemirror_mode": {
    "name": "ipython",
    "version": 3
   },
   "file_extension": ".py",
   "mimetype": "text/x-python",
   "name": "python",
   "nbconvert_exporter": "python",
   "pygments_lexer": "ipython3",
   "version": "3.8.5"
  }
 },
 "nbformat": 4,
 "nbformat_minor": 2
}
